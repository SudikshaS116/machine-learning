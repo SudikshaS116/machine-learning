{
  "nbformat": 4,
  "nbformat_minor": 0,
  "metadata": {
    "colab": {
      "provenance": []
    },
    "kernelspec": {
      "name": "python3",
      "display_name": "Python 3"
    },
    "language_info": {
      "name": "python"
    }
  },
  "cells": [
    {
      "cell_type": "code",
      "execution_count": 1,
      "metadata": {
        "id": "eG_y2B3yEdZ-"
      },
      "outputs": [],
      "source": [
        "import numpy as np\n",
        "from sklearn.datasets import load_breast_cancer\n",
        "from sklearn.model_selection import train_test_split\n",
        "from sklearn.preprocessing import StandardScaler\n",
        "from sklearn.tree import DecisionTreeRegressor\n",
        "from sklearn.metrics import accuracy_score, precision_score, recall_score, f1_score, roc_auc_score, confusion_matrix, classification_report, roc_curve\n",
        "import matplotlib.pyplot as plt"
      ]
    },
    {
      "cell_type": "code",
      "source": [
        "data = load_breast_cancer()\n",
        "X = data.data\n",
        "y = data.target"
      ],
      "metadata": {
        "id": "33ZxKgGHF9zX"
      },
      "execution_count": 2,
      "outputs": []
    },
    {
      "cell_type": "code",
      "source": [
        "X_train, X_test, y_train, y_test = train_test_split(X, y, test_size=0.2, stratify=y, random_state=42)\n"
      ],
      "metadata": {
        "id": "b7JdhTqXGBve"
      },
      "execution_count": 3,
      "outputs": []
    },
    {
      "cell_type": "code",
      "source": [
        "scaler = StandardScaler()\n",
        "X_train_scaled = scaler.fit_transform(X_train)\n",
        "X_test_scaled = scaler.transform(X_test)"
      ],
      "metadata": {
        "id": "DNSFYp9oGJZX"
      },
      "execution_count": 4,
      "outputs": []
    },
    {
      "cell_type": "code",
      "source": [
        "y_pred_train = np.full(y_train.shape, y_train.mean())\n",
        "y_pred_test = np.full(y_test.shape, y_train.mean())"
      ],
      "metadata": {
        "id": "dGfJDMFCGMhH"
      },
      "execution_count": 5,
      "outputs": []
    },
    {
      "cell_type": "code",
      "source": [
        "n_estimators = 100\n",
        "learning_rate = 0.1\n",
        "weak_learners = []\n",
        "for i in range(n_estimators):\n",
        "    residuals = y_train - y_pred_train\n",
        "    tree = DecisionTreeRegressor(max_depth=3, random_state=42)\n",
        "    tree.fit(X_train_scaled, residuals)\n",
        "    weak_learners.append(tree)\n",
        "    update_train = learning_rate * tree.predict(X_train_scaled)\n",
        "    update_test = learning_rate * tree.predict(X_test_scaled)\n",
        "    y_pred_train += update_train\n",
        "    y_pred_test += update_test\n",
        "    if (i + 1) % 10 == 0:\n",
        "        print(f\"Training progress: {i + 1} / {n_estimators}\")\n",
        "y_pred_binary = (y_pred_test >= 0.5).astype(int)\n"
      ],
      "metadata": {
        "colab": {
          "base_uri": "https://localhost:8080/"
        },
        "id": "VveILLfSGO2w",
        "outputId": "5ddd34e3-dd04-4c5d-f2e4-2793d2420e70"
      },
      "execution_count": 6,
      "outputs": [
        {
          "output_type": "stream",
          "name": "stdout",
          "text": [
            "Training progress: 10 / 100\n",
            "Training progress: 20 / 100\n",
            "Training progress: 30 / 100\n",
            "Training progress: 40 / 100\n",
            "Training progress: 50 / 100\n",
            "Training progress: 60 / 100\n",
            "Training progress: 70 / 100\n",
            "Training progress: 80 / 100\n",
            "Training progress: 90 / 100\n",
            "Training progress: 100 / 100\n"
          ]
        }
      ]
    },
    {
      "cell_type": "code",
      "source": [
        "print(\"\\nEvaluation on test set:\")\n",
        "print(f\"Accuracy: {accuracy_score(y_test, y_pred_binary):.4f}\")\n",
        "print(f\"Precision: {precision_score(y_test, y_pred_binary):.4f}\")\n",
        "print(f\"Recall: {recall_score(y_test, y_pred_binary):.4f}\")\n",
        "print(f\"F1 Score: {f1_score(y_test, y_pred_binary):.4f}\")\n",
        "print(f\"ROC AUC: {roc_auc_score(y_test, y_pred_test):.4f}\")\n",
        "print(\"\\nConfusion Matrix:\")\n",
        "print(confusion_matrix(y_test, y_pred_binary))\n",
        "\n"
      ],
      "metadata": {
        "colab": {
          "base_uri": "https://localhost:8080/"
        },
        "id": "aIb_f6CzGjs5",
        "outputId": "842dc4e2-961b-4799-938e-9054a8336a16"
      },
      "execution_count": 8,
      "outputs": [
        {
          "output_type": "stream",
          "name": "stdout",
          "text": [
            "\n",
            "Evaluation on test set:\n",
            "Accuracy: 0.9386\n",
            "Precision: 0.9452\n",
            "Recall: 0.9583\n",
            "F1 Score: 0.9517\n",
            "ROC AUC: 0.9921\n",
            "\n",
            "Confusion Matrix:\n",
            "[[38  4]\n",
            " [ 3 69]]\n"
          ]
        }
      ]
    },
    {
      "cell_type": "code",
      "source": [
        "print(\"\\nClassification Report:\")\n",
        "print(classification_report(y_test, y_pred_binary))"
      ],
      "metadata": {
        "colab": {
          "base_uri": "https://localhost:8080/"
        },
        "id": "6NNXoyLRHFl3",
        "outputId": "5ab2b242-b149-4114-85fa-4ec902254acb"
      },
      "execution_count": 9,
      "outputs": [
        {
          "output_type": "stream",
          "name": "stdout",
          "text": [
            "\n",
            "Classification Report:\n",
            "              precision    recall  f1-score   support\n",
            "\n",
            "           0       0.93      0.90      0.92        42\n",
            "           1       0.95      0.96      0.95        72\n",
            "\n",
            "    accuracy                           0.94       114\n",
            "   macro avg       0.94      0.93      0.93       114\n",
            "weighted avg       0.94      0.94      0.94       114\n",
            "\n"
          ]
        }
      ]
    },
    {
      "cell_type": "code",
      "source": [
        "fpr, tpr, thresholds = roc_curve(y_test, y_pred_test)\n",
        "plt.plot(fpr, tpr, label=\"Gradient Boosting\")\n",
        "plt.plot([0, 1], [0, 1], \"k--\", label=\"Random Classifier\")\n",
        "plt.xlabel(\"False Positive Rate\")\n",
        "plt.ylabel(\"True Positive Rate\")\n",
        "plt.title(\"ROC Curve\")\n",
        "plt.legend()\n",
        "plt.show()"
      ],
      "metadata": {
        "colab": {
          "base_uri": "https://localhost:8080/",
          "height": 472
        },
        "id": "jzkcNqYcHG3X",
        "outputId": "a23b8115-451c-4cb0-b0e9-4631ba5a1bda"
      },
      "execution_count": 10,
      "outputs": [
        {
          "output_type": "display_data",
          "data": {
            "text/plain": [
              "<Figure size 640x480 with 1 Axes>"
            ],
            "image/png": "[encoded data removed]"
          },
          "metadata": {}
        }
      ]
    }
  ]
}